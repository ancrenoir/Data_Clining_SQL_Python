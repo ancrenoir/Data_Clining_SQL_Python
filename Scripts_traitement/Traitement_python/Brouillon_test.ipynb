{
 "cells": [
  {
   "cell_type": "code",
   "execution_count": 1,
   "id": "2e0fee16-eb19-43f4-abf1-23da5a461da5",
   "metadata": {},
   "outputs": [],
   "source": [
    "import pandas as pd"
   ]
  },
  {
   "cell_type": "code",
   "execution_count": 8,
   "id": "c3ff45d3-ff45-4cb4-bf69-8b94e1aa6636",
   "metadata": {},
   "outputs": [],
   "source": [
    "repertoire_csv=r'C:\\APPRENDRE_DATA_ANALYSE_WITH_ALEX\\Excel'"
   ]
  },
  {
   "cell_type": "code",
   "execution_count": 13,
   "id": "24a63948-3981-4566-b64a-4929a3c65e0f",
   "metadata": {},
   "outputs": [],
   "source": [
    "repertoire_excel =r'C:\\APPRENDRE_DATA_ANALYSE_WITH_ALEX\\Excel\\Sales.xlsx'"
   ]
  },
  {
   "cell_type": "code",
   "execution_count": 9,
   "id": "52ba2ecf-cb9c-44af-bff5-5d768407506d",
   "metadata": {},
   "outputs": [],
   "source": [
    "import os\n",
    "\n",
    "with open(os.path.join(repertoire_csv, 'Sales.csv')) as csvFile:\n",
    "    data_csv = pd.read_csv(csvFile)"
   ]
  },
  {
   "cell_type": "code",
   "execution_count": 10,
   "id": "260e67d2-eb1b-411f-94c0-0c42acae6a7b",
   "metadata": {},
   "outputs": [
    {
     "name": "stdout",
     "output_type": "stream",
     "text": [
      "                                                     Date   Day     Month  \\\n",
      "0                                              2013-11-26  26.0  November   \n",
      "1                                              2015-11-26  26.0  November   \n",
      "2                                              2014-03-23  23.0     March   \n",
      "3                                              2016-03-23  23.0     March   \n",
      "4                                              2014-05-15  15.0       May   \n",
      "...                                                   ...   ...       ...   \n",
      "113031  2016-04-12,12,April,2016,41,Adults (35-64),M,U...   NaN       NaN   \n",
      "113032  2014-04-02,2,April,2014,18,Youth (<25),M,Austr...   NaN       NaN   \n",
      "113033  2016-04-02,2,April,2016,18,Youth (<25),M,Austr...   NaN       NaN   \n",
      "113034  2014-03-04,4,March,2014,37,Adults (35-64),F,Fr...   NaN       NaN   \n",
      "113035  2016-03-04,4,March,2016,37,Adults (35-64),F,Fr...   NaN       NaN   \n",
      "\n",
      "          Year  Customer_Age       Age_Group Customer_Gender    Country  \\\n",
      "0       2013.0          19.0     Youth (<25)               M     Canada   \n",
      "1       2015.0          19.0     Youth (<25)               M     Canada   \n",
      "2       2014.0          49.0  Adults (35-64)               M  Australia   \n",
      "3       2016.0          49.0  Adults (35-64)               M  Australia   \n",
      "4       2014.0          47.0  Adults (35-64)               F  Australia   \n",
      "...        ...           ...             ...             ...        ...   \n",
      "113031     NaN           NaN             NaN             NaN        NaN   \n",
      "113032     NaN           NaN             NaN             NaN        NaN   \n",
      "113033     NaN           NaN             NaN             NaN        NaN   \n",
      "113034     NaN           NaN             NaN             NaN        NaN   \n",
      "113035     NaN           NaN             NaN             NaN        NaN   \n",
      "\n",
      "                   State Product_Category Sub_Category              Product  \\\n",
      "0       British Columbia      Accessories   Bike Racks  Hitch Rack - 4-Bike   \n",
      "1       British Columbia      Accessories   Bike Racks  Hitch Rack - 4-Bike   \n",
      "2        New South Wales      Accessories   Bike Racks  Hitch Rack - 4-Bike   \n",
      "3        New South Wales      Accessories   Bike Racks  Hitch Rack - 4-Bike   \n",
      "4        New South Wales      Accessories   Bike Racks  Hitch Rack - 4-Bike   \n",
      "...                  ...              ...          ...                  ...   \n",
      "113031               NaN              NaN          NaN                  NaN   \n",
      "113032               NaN              NaN          NaN                  NaN   \n",
      "113033               NaN              NaN          NaN                  NaN   \n",
      "113034               NaN              NaN          NaN                  NaN   \n",
      "113035               NaN              NaN          NaN                  NaN   \n",
      "\n",
      "        Order_Quantity  Unit_Cost  Unit_Price  Profit    Cost  Revenue  \n",
      "0                  8.0       45.0       120.0   590.0   360.0    950.0  \n",
      "1                  8.0       45.0       120.0   590.0   360.0    950.0  \n",
      "2                 23.0       45.0       120.0  1366.0  1035.0   2401.0  \n",
      "3                 20.0       45.0       120.0  1188.0   900.0   2088.0  \n",
      "4                  4.0       45.0       120.0   238.0   180.0    418.0  \n",
      "...                ...        ...         ...     ...     ...      ...  \n",
      "113031             NaN        NaN         NaN     NaN     NaN      NaN  \n",
      "113032             NaN        NaN         NaN     NaN     NaN      NaN  \n",
      "113033             NaN        NaN         NaN     NaN     NaN      NaN  \n",
      "113034             NaN        NaN         NaN     NaN     NaN      NaN  \n",
      "113035             NaN        NaN         NaN     NaN     NaN      NaN  \n",
      "\n",
      "[113036 rows x 18 columns]\n"
     ]
    }
   ],
   "source": []
  },
  {
   "cell_type": "code",
   "execution_count": 16,
   "id": "81304d5e-7e96-4b0e-8382-ac78c5641468",
   "metadata": {},
   "outputs": [],
   "source": [
    "data_csv.to_excel(repertoire_excel, index = False)"
   ]
  },
  {
   "cell_type": "code",
   "execution_count": null,
   "id": "ea597a27-ec71-4495-850d-b26175f8030c",
   "metadata": {},
   "outputs": [],
   "source": []
  }
 ],
 "metadata": {
  "kernelspec": {
   "display_name": "Python 3 (ipykernel)",
   "language": "python",
   "name": "python3"
  },
  "language_info": {
   "codemirror_mode": {
    "name": "ipython",
    "version": 3
   },
   "file_extension": ".py",
   "mimetype": "text/x-python",
   "name": "python",
   "nbconvert_exporter": "python",
   "pygments_lexer": "ipython3",
   "version": "3.12.3"
  }
 },
 "nbformat": 4,
 "nbformat_minor": 5
}
